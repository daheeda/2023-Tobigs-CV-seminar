{
  "nbformat": 4,
  "nbformat_minor": 0,
  "metadata": {
    "colab": {
      "provenance": []
    },
    "kernelspec": {
      "name": "python3",
      "display_name": "Python 3"
    },
    "language_info": {
      "name": "python"
    }
  },
  "cells": [
    {
      "cell_type": "code",
      "execution_count": null,
      "metadata": {
        "colab": {
          "base_uri": "https://localhost:8080/"
        },
        "id": "K8ob8c5Ut5Gi",
        "outputId": "984f82d6-bef9-41cb-a736-c051dc04c950"
      },
      "outputs": [
        {
          "output_type": "stream",
          "name": "stdout",
          "text": [
            "Cloning into 'EAST-tf2'...\n",
            "remote: Enumerating objects: 69, done.\u001b[K\n",
            "remote: Counting objects: 100% (69/69), done.\u001b[K\n",
            "remote: Compressing objects: 100% (62/62), done.\u001b[K\n",
            "remote: Total 69 (delta 8), reused 62 (delta 5), pack-reused 0\u001b[K\n",
            "Unpacking objects: 100% (69/69), 1.58 MiB | 8.15 MiB/s, done.\n"
          ]
        }
      ],
      "source": [
        "!git clone https://github.com/solaris33/EAST-tf2"
      ]
    },
    {
      "cell_type": "code",
      "source": [
        "%cd EAST-tf2"
      ],
      "metadata": {
        "colab": {
          "base_uri": "https://localhost:8080/"
        },
        "id": "_OU_oBCeuFEu",
        "outputId": "3635dd7b-c160-42df-9615-018d86c677a8"
      },
      "execution_count": null,
      "outputs": [
        {
          "output_type": "stream",
          "name": "stdout",
          "text": [
            "/content/EAST-tf2\n"
          ]
        }
      ]
    },
    {
      "cell_type": "code",
      "source": [
        "!pwd"
      ],
      "metadata": {
        "colab": {
          "base_uri": "https://localhost:8080/"
        },
        "id": "_q4cnoSauFCa",
        "outputId": "921a5484-6dec-4374-ffd2-b0c6b98b81a0"
      },
      "execution_count": null,
      "outputs": [
        {
          "output_type": "stream",
          "name": "stdout",
          "text": [
            "/content/EAST-tf2\n"
          ]
        }
      ]
    },
    {
      "cell_type": "code",
      "source": [
        "!ls"
      ],
      "metadata": {
        "colab": {
          "base_uri": "https://localhost:8080/"
        },
        "id": "eCB9h7bTuE7w",
        "outputId": "bde03019-1450-4da3-931f-3e571f02ea1b"
      },
      "execution_count": null,
      "outputs": [
        {
          "output_type": "stream",
          "name": "stdout",
          "text": [
            "data_processor.py\t\texamples  locality_aware_nms.py  README.md\n",
            "EAST-tf2_icdar2015_example.zip\tlanms\t  losses.py\t\t train.py\n",
            "eval.py\t\t\t\tLICENSE   model.py\n"
          ]
        }
      ]
    },
    {
      "cell_type": "code",
      "source": [
        "!unzip EAST-tf2_icdar2015_example.zip"
      ],
      "metadata": {
        "id": "hzIRQNysvrwE",
        "colab": {
          "base_uri": "https://localhost:8080/"
        },
        "outputId": "71f951a3-96ad-486c-da7f-2ee897f1a01f"
      },
      "execution_count": 28,
      "outputs": [
        {
          "output_type": "stream",
          "name": "stdout",
          "text": [
            "Archive:  EAST-tf2_icdar2015_example.zip\n",
            "replace data/ICDAR2015/train_data/img_1.jpg? [y]es, [n]o, [A]ll, [N]one, [r]ename: "
          ]
        }
      ]
    },
    {
      "cell_type": "code",
      "source": [
        "import os\n",
        "import glob\n",
        "import sklearn.model_selection\n",
        "import shapely\n",
        "import csv\n",
        "import numpy as np"
      ],
      "metadata": {
        "id": "spnlOroPvrtC"
      },
      "execution_count": null,
      "outputs": []
    },
    {
      "cell_type": "code",
      "source": [
        "!python train.py \\\n",
        "--training_data_path=\"./data/ICDAR2015/train_data/\" \\\n",
        "--checkpoint_path=\"./east_resnet_50_rbox\""
      ],
      "metadata": {
        "id": "O-dMI5tNvrp1",
        "colab": {
          "base_uri": "https://localhost:8080/"
        },
        "outputId": "3c9fe117-1861-4f24-858d-ed858418d73b"
      },
      "execution_count": 12,
      "outputs": [
        {
          "output_type": "stream",
          "name": "stdout",
          "text": [
            "2023-04-16 06:49:32.427270: I tensorflow/core/platform/cpu_feature_guard.cc:182] This TensorFlow binary is optimized to use available CPU instructions in performance-critical operations.\n",
            "To enable the following instructions: AVX2 FMA, in other operations, rebuild TensorFlow with the appropriate compiler flags.\n",
            "2023-04-16 06:49:33.586032: W tensorflow/compiler/tf2tensorrt/utils/py_utils.cc:38] TF-TRT Warning: Could not find TensorRT\n",
            "total batches per epoch : 125.0\n",
            "Downloading data from https://storage.googleapis.com/tensorflow/keras-applications/resnet/resnet50_weights_tf_dim_ordering_tf_kernels_notop.h5\n",
            "94765736/94765736 [==============================] - 0s 0us/step\n",
            "Model: \"model\"\n",
            "__________________________________________________________________________________________________\n",
            " Layer (type)                   Output Shape         Param #     Connected to                     \n",
            "==================================================================================================\n",
            " input_image (InputLayer)       [(None, None, None,  0           []                               \n",
            "                                 3)]                                                              \n",
            "                                                                                                  \n",
            " conv1_pad (ZeroPadding2D)      (None, None, None,   0           ['input_image[0][0]']            \n",
            "                                3)                                                                \n",
            "                                                                                                  \n",
            " conv1_conv (Conv2D)            (None, None, None,   9472        ['conv1_pad[0][0]']              \n",
            "                                64)                                                               \n",
            "                                                                                                  \n",
            " conv1_bn (BatchNormalization)  (None, None, None,   256         ['conv1_conv[0][0]']             \n",
            "                                64)                                                               \n",
            "                                                                                                  \n",
            " conv1_relu (Activation)        (None, None, None,   0           ['conv1_bn[0][0]']               \n",
            "                                64)                                                               \n",
            "                                                                                                  \n",
            " pool1_pad (ZeroPadding2D)      (None, None, None,   0           ['conv1_relu[0][0]']             \n",
            "                                64)                                                               \n",
            "                                                                                                  \n",
            " pool1_pool (MaxPooling2D)      (None, None, None,   0           ['pool1_pad[0][0]']              \n",
            "                                64)                                                               \n",
            "                                                                                                  \n",
            " conv2_block1_1_conv (Conv2D)   (None, None, None,   4160        ['pool1_pool[0][0]']             \n",
            "                                64)                                                               \n",
            "                                                                                                  \n",
            " conv2_block1_1_bn (BatchNormal  (None, None, None,   256        ['conv2_block1_1_conv[0][0]']    \n",
            " ization)                       64)                                                               \n",
            "                                                                                                  \n",
            " conv2_block1_1_relu (Activatio  (None, None, None,   0          ['conv2_block1_1_bn[0][0]']      \n",
            " n)                             64)                                                               \n",
            "                                                                                                  \n",
            " conv2_block1_2_conv (Conv2D)   (None, None, None,   36928       ['conv2_block1_1_relu[0][0]']    \n",
            "                                64)                                                               \n",
            "                                                                                                  \n",
            " conv2_block1_2_bn (BatchNormal  (None, None, None,   256        ['conv2_block1_2_conv[0][0]']    \n",
            " ization)                       64)                                                               \n",
            "                                                                                                  \n",
            " conv2_block1_2_relu (Activatio  (None, None, None,   0          ['conv2_block1_2_bn[0][0]']      \n",
            " n)                             64)                                                               \n",
            "                                                                                                  \n",
            " conv2_block1_0_conv (Conv2D)   (None, None, None,   16640       ['pool1_pool[0][0]']             \n",
            "                                256)                                                              \n",
            "                                                                                                  \n",
            " conv2_block1_3_conv (Conv2D)   (None, None, None,   16640       ['conv2_block1_2_relu[0][0]']    \n",
            "                                256)                                                              \n",
            "                                                                                                  \n",
            " conv2_block1_0_bn (BatchNormal  (None, None, None,   1024       ['conv2_block1_0_conv[0][0]']    \n",
            " ization)                       256)                                                              \n",
            "                                                                                                  \n",
            " conv2_block1_3_bn (BatchNormal  (None, None, None,   1024       ['conv2_block1_3_conv[0][0]']    \n",
            " ization)                       256)                                                              \n",
            "                                                                                                  \n",
            " conv2_block1_add (Add)         (None, None, None,   0           ['conv2_block1_0_bn[0][0]',      \n",
            "                                256)                              'conv2_block1_3_bn[0][0]']      \n",
            "                                                                                                  \n",
            " conv2_block1_out (Activation)  (None, None, None,   0           ['conv2_block1_add[0][0]']       \n",
            "                                256)                                                              \n",
            "                                                                                                  \n",
            " conv2_block2_1_conv (Conv2D)   (None, None, None,   16448       ['conv2_block1_out[0][0]']       \n",
            "                                64)                                                               \n",
            "                                                                                                  \n",
            " conv2_block2_1_bn (BatchNormal  (None, None, None,   256        ['conv2_block2_1_conv[0][0]']    \n",
            " ization)                       64)                                                               \n",
            "                                                                                                  \n",
            " conv2_block2_1_relu (Activatio  (None, None, None,   0          ['conv2_block2_1_bn[0][0]']      \n",
            " n)                             64)                                                               \n",
            "                                                                                                  \n",
            " conv2_block2_2_conv (Conv2D)   (None, None, None,   36928       ['conv2_block2_1_relu[0][0]']    \n",
            "                                64)                                                               \n",
            "                                                                                                  \n",
            " conv2_block2_2_bn (BatchNormal  (None, None, None,   256        ['conv2_block2_2_conv[0][0]']    \n",
            " ization)                       64)                                                               \n",
            "                                                                                                  \n",
            " conv2_block2_2_relu (Activatio  (None, None, None,   0          ['conv2_block2_2_bn[0][0]']      \n",
            " n)                             64)                                                               \n",
            "                                                                                                  \n",
            " conv2_block2_3_conv (Conv2D)   (None, None, None,   16640       ['conv2_block2_2_relu[0][0]']    \n",
            "                                256)                                                              \n",
            "                                                                                                  \n",
            " conv2_block2_3_bn (BatchNormal  (None, None, None,   1024       ['conv2_block2_3_conv[0][0]']    \n",
            " ization)                       256)                                                              \n",
            "                                                                                                  \n",
            " conv2_block2_add (Add)         (None, None, None,   0           ['conv2_block1_out[0][0]',       \n",
            "                                256)                              'conv2_block2_3_bn[0][0]']      \n",
            "                                                                                                  \n",
            " conv2_block2_out (Activation)  (None, None, None,   0           ['conv2_block2_add[0][0]']       \n",
            "                                256)                                                              \n",
            "                                                                                                  \n",
            " conv2_block3_1_conv (Conv2D)   (None, None, None,   16448       ['conv2_block2_out[0][0]']       \n",
            "                                64)                                                               \n",
            "                                                                                                  \n",
            " conv2_block3_1_bn (BatchNormal  (None, None, None,   256        ['conv2_block3_1_conv[0][0]']    \n",
            " ization)                       64)                                                               \n",
            "                                                                                                  \n",
            " conv2_block3_1_relu (Activatio  (None, None, None,   0          ['conv2_block3_1_bn[0][0]']      \n",
            " n)                             64)                                                               \n",
            "                                                                                                  \n",
            " conv2_block3_2_conv (Conv2D)   (None, None, None,   36928       ['conv2_block3_1_relu[0][0]']    \n",
            "                                64)                                                               \n",
            "                                                                                                  \n",
            " conv2_block3_2_bn (BatchNormal  (None, None, None,   256        ['conv2_block3_2_conv[0][0]']    \n",
            " ization)                       64)                                                               \n",
            "                                                                                                  \n",
            " conv2_block3_2_relu (Activatio  (None, None, None,   0          ['conv2_block3_2_bn[0][0]']      \n",
            " n)                             64)                                                               \n",
            "                                                                                                  \n",
            " conv2_block3_3_conv (Conv2D)   (None, None, None,   16640       ['conv2_block3_2_relu[0][0]']    \n",
            "                                256)                                                              \n",
            "                                                                                                  \n",
            " conv2_block3_3_bn (BatchNormal  (None, None, None,   1024       ['conv2_block3_3_conv[0][0]']    \n",
            " ization)                       256)                                                              \n",
            "                                                                                                  \n",
            " conv2_block3_add (Add)         (None, None, None,   0           ['conv2_block2_out[0][0]',       \n",
            "                                256)                              'conv2_block3_3_bn[0][0]']      \n",
            "                                                                                                  \n",
            " conv2_block3_out (Activation)  (None, None, None,   0           ['conv2_block3_add[0][0]']       \n",
            "                                256)                                                              \n",
            "                                                                                                  \n",
            " conv3_block1_1_conv (Conv2D)   (None, None, None,   32896       ['conv2_block3_out[0][0]']       \n",
            "                                128)                                                              \n",
            "                                                                                                  \n",
            " conv3_block1_1_bn (BatchNormal  (None, None, None,   512        ['conv3_block1_1_conv[0][0]']    \n",
            " ization)                       128)                                                              \n",
            "                                                                                                  \n",
            " conv3_block1_1_relu (Activatio  (None, None, None,   0          ['conv3_block1_1_bn[0][0]']      \n",
            " n)                             128)                                                              \n",
            "                                                                                                  \n",
            " conv3_block1_2_conv (Conv2D)   (None, None, None,   147584      ['conv3_block1_1_relu[0][0]']    \n",
            "                                128)                                                              \n",
            "                                                                                                  \n",
            " conv3_block1_2_bn (BatchNormal  (None, None, None,   512        ['conv3_block1_2_conv[0][0]']    \n",
            " ization)                       128)                                                              \n",
            "                                                                                                  \n",
            " conv3_block1_2_relu (Activatio  (None, None, None,   0          ['conv3_block1_2_bn[0][0]']      \n",
            " n)                             128)                                                              \n",
            "                                                                                                  \n",
            " conv3_block1_0_conv (Conv2D)   (None, None, None,   131584      ['conv2_block3_out[0][0]']       \n",
            "                                512)                                                              \n",
            "                                                                                                  \n",
            " conv3_block1_3_conv (Conv2D)   (None, None, None,   66048       ['conv3_block1_2_relu[0][0]']    \n",
            "                                512)                                                              \n",
            "                                                                                                  \n",
            " conv3_block1_0_bn (BatchNormal  (None, None, None,   2048       ['conv3_block1_0_conv[0][0]']    \n",
            " ization)                       512)                                                              \n",
            "                                                                                                  \n",
            " conv3_block1_3_bn (BatchNormal  (None, None, None,   2048       ['conv3_block1_3_conv[0][0]']    \n",
            " ization)                       512)                                                              \n",
            "                                                                                                  \n",
            " conv3_block1_add (Add)         (None, None, None,   0           ['conv3_block1_0_bn[0][0]',      \n",
            "                                512)                              'conv3_block1_3_bn[0][0]']      \n",
            "                                                                                                  \n",
            " conv3_block1_out (Activation)  (None, None, None,   0           ['conv3_block1_add[0][0]']       \n",
            "                                512)                                                              \n",
            "                                                                                                  \n",
            " conv3_block2_1_conv (Conv2D)   (None, None, None,   65664       ['conv3_block1_out[0][0]']       \n",
            "                                128)                                                              \n",
            "                                                                                                  \n",
            " conv3_block2_1_bn (BatchNormal  (None, None, None,   512        ['conv3_block2_1_conv[0][0]']    \n",
            " ization)                       128)                                                              \n",
            "                                                                                                  \n",
            " conv3_block2_1_relu (Activatio  (None, None, None,   0          ['conv3_block2_1_bn[0][0]']      \n",
            " n)                             128)                                                              \n",
            "                                                                                                  \n",
            " conv3_block2_2_conv (Conv2D)   (None, None, None,   147584      ['conv3_block2_1_relu[0][0]']    \n",
            "                                128)                                                              \n",
            "                                                                                                  \n",
            " conv3_block2_2_bn (BatchNormal  (None, None, None,   512        ['conv3_block2_2_conv[0][0]']    \n",
            " ization)                       128)                                                              \n",
            "                                                                                                  \n",
            " conv3_block2_2_relu (Activatio  (None, None, None,   0          ['conv3_block2_2_bn[0][0]']      \n",
            " n)                             128)                                                              \n",
            "                                                                                                  \n",
            " conv3_block2_3_conv (Conv2D)   (None, None, None,   66048       ['conv3_block2_2_relu[0][0]']    \n",
            "                                512)                                                              \n",
            "                                                                                                  \n",
            " conv3_block2_3_bn (BatchNormal  (None, None, None,   2048       ['conv3_block2_3_conv[0][0]']    \n",
            " ization)                       512)                                                              \n",
            "                                                                                                  \n",
            " conv3_block2_add (Add)         (None, None, None,   0           ['conv3_block1_out[0][0]',       \n",
            "                                512)                              'conv3_block2_3_bn[0][0]']      \n",
            "                                                                                                  \n",
            " conv3_block2_out (Activation)  (None, None, None,   0           ['conv3_block2_add[0][0]']       \n",
            "                                512)                                                              \n",
            "                                                                                                  \n",
            " conv3_block3_1_conv (Conv2D)   (None, None, None,   65664       ['conv3_block2_out[0][0]']       \n",
            "                                128)                                                              \n",
            "                                                                                                  \n",
            " conv3_block3_1_bn (BatchNormal  (None, None, None,   512        ['conv3_block3_1_conv[0][0]']    \n",
            " ization)                       128)                                                              \n",
            "                                                                                                  \n",
            " conv3_block3_1_relu (Activatio  (None, None, None,   0          ['conv3_block3_1_bn[0][0]']      \n",
            " n)                             128)                                                              \n",
            "                                                                                                  \n",
            " conv3_block3_2_conv (Conv2D)   (None, None, None,   147584      ['conv3_block3_1_relu[0][0]']    \n",
            "                                128)                                                              \n",
            "                                                                                                  \n",
            " conv3_block3_2_bn (BatchNormal  (None, None, None,   512        ['conv3_block3_2_conv[0][0]']    \n",
            " ization)                       128)                                                              \n",
            "                                                                                                  \n",
            " conv3_block3_2_relu (Activatio  (None, None, None,   0          ['conv3_block3_2_bn[0][0]']      \n",
            " n)                             128)                                                              \n",
            "                                                                                                  \n",
            " conv3_block3_3_conv (Conv2D)   (None, None, None,   66048       ['conv3_block3_2_relu[0][0]']    \n",
            "                                512)                                                              \n",
            "                                                                                                  \n",
            " conv3_block3_3_bn (BatchNormal  (None, None, None,   2048       ['conv3_block3_3_conv[0][0]']    \n",
            " ization)                       512)                                                              \n",
            "                                                                                                  \n",
            " conv3_block3_add (Add)         (None, None, None,   0           ['conv3_block2_out[0][0]',       \n",
            "                                512)                              'conv3_block3_3_bn[0][0]']      \n",
            "                                                                                                  \n",
            " conv3_block3_out (Activation)  (None, None, None,   0           ['conv3_block3_add[0][0]']       \n",
            "                                512)                                                              \n",
            "                                                                                                  \n",
            " conv3_block4_1_conv (Conv2D)   (None, None, None,   65664       ['conv3_block3_out[0][0]']       \n",
            "                                128)                                                              \n",
            "                                                                                                  \n",
            " conv3_block4_1_bn (BatchNormal  (None, None, None,   512        ['conv3_block4_1_conv[0][0]']    \n",
            " ization)                       128)                                                              \n",
            "                                                                                                  \n",
            " conv3_block4_1_relu (Activatio  (None, None, None,   0          ['conv3_block4_1_bn[0][0]']      \n",
            " n)                             128)                                                              \n",
            "                                                                                                  \n",
            " conv3_block4_2_conv (Conv2D)   (None, None, None,   147584      ['conv3_block4_1_relu[0][0]']    \n",
            "                                128)                                                              \n",
            "                                                                                                  \n",
            " conv3_block4_2_bn (BatchNormal  (None, None, None,   512        ['conv3_block4_2_conv[0][0]']    \n",
            " ization)                       128)                                                              \n",
            "                                                                                                  \n",
            " conv3_block4_2_relu (Activatio  (None, None, None,   0          ['conv3_block4_2_bn[0][0]']      \n",
            " n)                             128)                                                              \n",
            "                                                                                                  \n",
            " conv3_block4_3_conv (Conv2D)   (None, None, None,   66048       ['conv3_block4_2_relu[0][0]']    \n",
            "                                512)                                                              \n",
            "                                                                                                  \n",
            " conv3_block4_3_bn (BatchNormal  (None, None, None,   2048       ['conv3_block4_3_conv[0][0]']    \n",
            " ization)                       512)                                                              \n",
            "                                                                                                  \n",
            " conv3_block4_add (Add)         (None, None, None,   0           ['conv3_block3_out[0][0]',       \n",
            "                                512)                              'conv3_block4_3_bn[0][0]']      \n",
            "                                                                                                  \n",
            " conv3_block4_out (Activation)  (None, None, None,   0           ['conv3_block4_add[0][0]']       \n",
            "                                512)                                                              \n",
            "                                                                                                  \n",
            " conv4_block1_1_conv (Conv2D)   (None, None, None,   131328      ['conv3_block4_out[0][0]']       \n",
            "                                256)                                                              \n",
            "                                                                                                  \n",
            " conv4_block1_1_bn (BatchNormal  (None, None, None,   1024       ['conv4_block1_1_conv[0][0]']    \n",
            " ization)                       256)                                                              \n",
            "                                                                                                  \n",
            " conv4_block1_1_relu (Activatio  (None, None, None,   0          ['conv4_block1_1_bn[0][0]']      \n",
            " n)                             256)                                                              \n",
            "                                                                                                  \n",
            " conv4_block1_2_conv (Conv2D)   (None, None, None,   590080      ['conv4_block1_1_relu[0][0]']    \n",
            "                                256)                                                              \n",
            "                                                                                                  \n",
            " conv4_block1_2_bn (BatchNormal  (None, None, None,   1024       ['conv4_block1_2_conv[0][0]']    \n",
            " ization)                       256)                                                              \n",
            "                                                                                                  \n",
            " conv4_block1_2_relu (Activatio  (None, None, None,   0          ['conv4_block1_2_bn[0][0]']      \n",
            " n)                             256)                                                              \n",
            "                                                                                                  \n",
            " conv4_block1_0_conv (Conv2D)   (None, None, None,   525312      ['conv3_block4_out[0][0]']       \n",
            "                                1024)                                                             \n",
            "                                                                                                  \n",
            " conv4_block1_3_conv (Conv2D)   (None, None, None,   263168      ['conv4_block1_2_relu[0][0]']    \n",
            "                                1024)                                                             \n",
            "                                                                                                  \n",
            " conv4_block1_0_bn (BatchNormal  (None, None, None,   4096       ['conv4_block1_0_conv[0][0]']    \n",
            " ization)                       1024)                                                             \n",
            "                                                                                                  \n",
            " conv4_block1_3_bn (BatchNormal  (None, None, None,   4096       ['conv4_block1_3_conv[0][0]']    \n",
            " ization)                       1024)                                                             \n",
            "                                                                                                  \n",
            " conv4_block1_add (Add)         (None, None, None,   0           ['conv4_block1_0_bn[0][0]',      \n",
            "                                1024)                             'conv4_block1_3_bn[0][0]']      \n",
            "                                                                                                  \n",
            " conv4_block1_out (Activation)  (None, None, None,   0           ['conv4_block1_add[0][0]']       \n",
            "                                1024)                                                             \n",
            "                                                                                                  \n",
            " conv4_block2_1_conv (Conv2D)   (None, None, None,   262400      ['conv4_block1_out[0][0]']       \n",
            "                                256)                                                              \n",
            "                                                                                                  \n",
            " conv4_block2_1_bn (BatchNormal  (None, None, None,   1024       ['conv4_block2_1_conv[0][0]']    \n",
            " ization)                       256)                                                              \n",
            "                                                                                                  \n",
            " conv4_block2_1_relu (Activatio  (None, None, None,   0          ['conv4_block2_1_bn[0][0]']      \n",
            " n)                             256)                                                              \n",
            "                                                                                                  \n",
            " conv4_block2_2_conv (Conv2D)   (None, None, None,   590080      ['conv4_block2_1_relu[0][0]']    \n",
            "                                256)                                                              \n",
            "                                                                                                  \n",
            " conv4_block2_2_bn (BatchNormal  (None, None, None,   1024       ['conv4_block2_2_conv[0][0]']    \n",
            " ization)                       256)                                                              \n",
            "                                                                                                  \n",
            " conv4_block2_2_relu (Activatio  (None, None, None,   0          ['conv4_block2_2_bn[0][0]']      \n",
            " n)                             256)                                                              \n",
            "                                                                                                  \n",
            " conv4_block2_3_conv (Conv2D)   (None, None, None,   263168      ['conv4_block2_2_relu[0][0]']    \n",
            "                                1024)                                                             \n",
            "                                                                                                  \n",
            " conv4_block2_3_bn (BatchNormal  (None, None, None,   4096       ['conv4_block2_3_conv[0][0]']    \n",
            " ization)                       1024)                                                             \n",
            "                                                                                                  \n",
            " conv4_block2_add (Add)         (None, None, None,   0           ['conv4_block1_out[0][0]',       \n",
            "                                1024)                             'conv4_block2_3_bn[0][0]']      \n",
            "                                                                                                  \n",
            " conv4_block2_out (Activation)  (None, None, None,   0           ['conv4_block2_add[0][0]']       \n",
            "                                1024)                                                             \n",
            "                                                                                                  \n",
            " conv4_block3_1_conv (Conv2D)   (None, None, None,   262400      ['conv4_block2_out[0][0]']       \n",
            "                                256)                                                              \n",
            "                                                                                                  \n",
            " conv4_block3_1_bn (BatchNormal  (None, None, None,   1024       ['conv4_block3_1_conv[0][0]']    \n",
            " ization)                       256)                                                              \n",
            "                                                                                                  \n",
            " conv4_block3_1_relu (Activatio  (None, None, None,   0          ['conv4_block3_1_bn[0][0]']      \n",
            " n)                             256)                                                              \n",
            "                                                                                                  \n",
            " conv4_block3_2_conv (Conv2D)   (None, None, None,   590080      ['conv4_block3_1_relu[0][0]']    \n",
            "                                256)                                                              \n",
            "                                                                                                  \n",
            " conv4_block3_2_bn (BatchNormal  (None, None, None,   1024       ['conv4_block3_2_conv[0][0]']    \n",
            " ization)                       256)                                                              \n",
            "                                                                                                  \n",
            " conv4_block3_2_relu (Activatio  (None, None, None,   0          ['conv4_block3_2_bn[0][0]']      \n",
            " n)                             256)                                                              \n",
            "                                                                                                  \n",
            " conv4_block3_3_conv (Conv2D)   (None, None, None,   263168      ['conv4_block3_2_relu[0][0]']    \n",
            "                                1024)                                                             \n",
            "                                                                                                  \n",
            " conv4_block3_3_bn (BatchNormal  (None, None, None,   4096       ['conv4_block3_3_conv[0][0]']    \n",
            " ization)                       1024)                                                             \n",
            "                                                                                                  \n",
            " conv4_block3_add (Add)         (None, None, None,   0           ['conv4_block2_out[0][0]',       \n",
            "                                1024)                             'conv4_block3_3_bn[0][0]']      \n",
            "                                                                                                  \n",
            " conv4_block3_out (Activation)  (None, None, None,   0           ['conv4_block3_add[0][0]']       \n",
            "                                1024)                                                             \n",
            "                                                                                                  \n",
            " conv4_block4_1_conv (Conv2D)   (None, None, None,   262400      ['conv4_block3_out[0][0]']       \n",
            "                                256)                                                              \n",
            "                                                                                                  \n",
            " conv4_block4_1_bn (BatchNormal  (None, None, None,   1024       ['conv4_block4_1_conv[0][0]']    \n",
            " ization)                       256)                                                              \n",
            "                                                                                                  \n",
            " conv4_block4_1_relu (Activatio  (None, None, None,   0          ['conv4_block4_1_bn[0][0]']      \n",
            " n)                             256)                                                              \n",
            "                                                                                                  \n",
            " conv4_block4_2_conv (Conv2D)   (None, None, None,   590080      ['conv4_block4_1_relu[0][0]']    \n",
            "                                256)                                                              \n",
            "                                                                                                  \n",
            " conv4_block4_2_bn (BatchNormal  (None, None, None,   1024       ['conv4_block4_2_conv[0][0]']    \n",
            " ization)                       256)                                                              \n",
            "                                                                                                  \n",
            " conv4_block4_2_relu (Activatio  (None, None, None,   0          ['conv4_block4_2_bn[0][0]']      \n",
            " n)                             256)                                                              \n",
            "                                                                                                  \n",
            " conv4_block4_3_conv (Conv2D)   (None, None, None,   263168      ['conv4_block4_2_relu[0][0]']    \n",
            "                                1024)                                                             \n",
            "                                                                                                  \n",
            " conv4_block4_3_bn (BatchNormal  (None, None, None,   4096       ['conv4_block4_3_conv[0][0]']    \n",
            " ization)                       1024)                                                             \n",
            "                                                                                                  \n",
            " conv4_block4_add (Add)         (None, None, None,   0           ['conv4_block3_out[0][0]',       \n",
            "                                1024)                             'conv4_block4_3_bn[0][0]']      \n",
            "                                                                                                  \n",
            " conv4_block4_out (Activation)  (None, None, None,   0           ['conv4_block4_add[0][0]']       \n",
            "                                1024)                                                             \n",
            "                                                                                                  \n",
            " conv4_block5_1_conv (Conv2D)   (None, None, None,   262400      ['conv4_block4_out[0][0]']       \n",
            "                                256)                                                              \n",
            "                                                                                                  \n",
            " conv4_block5_1_bn (BatchNormal  (None, None, None,   1024       ['conv4_block5_1_conv[0][0]']    \n",
            " ization)                       256)                                                              \n",
            "                                                                                                  \n",
            " conv4_block5_1_relu (Activatio  (None, None, None,   0          ['conv4_block5_1_bn[0][0]']      \n",
            " n)                             256)                                                              \n",
            "                                                                                                  \n",
            " conv4_block5_2_conv (Conv2D)   (None, None, None,   590080      ['conv4_block5_1_relu[0][0]']    \n",
            "                                256)                                                              \n",
            "                                                                                                  \n",
            " conv4_block5_2_bn (BatchNormal  (None, None, None,   1024       ['conv4_block5_2_conv[0][0]']    \n",
            " ization)                       256)                                                              \n",
            "                                                                                                  \n",
            " conv4_block5_2_relu (Activatio  (None, None, None,   0          ['conv4_block5_2_bn[0][0]']      \n",
            " n)                             256)                                                              \n",
            "                                                                                                  \n",
            " conv4_block5_3_conv (Conv2D)   (None, None, None,   263168      ['conv4_block5_2_relu[0][0]']    \n",
            "                                1024)                                                             \n",
            "                                                                                                  \n",
            " conv4_block5_3_bn (BatchNormal  (None, None, None,   4096       ['conv4_block5_3_conv[0][0]']    \n",
            " ization)                       1024)                                                             \n",
            "                                                                                                  \n",
            " conv4_block5_add (Add)         (None, None, None,   0           ['conv4_block4_out[0][0]',       \n",
            "                                1024)                             'conv4_block5_3_bn[0][0]']      \n",
            "                                                                                                  \n",
            " conv4_block5_out (Activation)  (None, None, None,   0           ['conv4_block5_add[0][0]']       \n",
            "                                1024)                                                             \n",
            "                                                                                                  \n",
            " conv4_block6_1_conv (Conv2D)   (None, None, None,   262400      ['conv4_block5_out[0][0]']       \n",
            "                                256)                                                              \n",
            "                                                                                                  \n",
            " conv4_block6_1_bn (BatchNormal  (None, None, None,   1024       ['conv4_block6_1_conv[0][0]']    \n",
            " ization)                       256)                                                              \n",
            "                                                                                                  \n",
            " conv4_block6_1_relu (Activatio  (None, None, None,   0          ['conv4_block6_1_bn[0][0]']      \n",
            " n)                             256)                                                              \n",
            "                                                                                                  \n",
            " conv4_block6_2_conv (Conv2D)   (None, None, None,   590080      ['conv4_block6_1_relu[0][0]']    \n",
            "                                256)                                                              \n",
            "                                                                                                  \n",
            " conv4_block6_2_bn (BatchNormal  (None, None, None,   1024       ['conv4_block6_2_conv[0][0]']    \n",
            " ization)                       256)                                                              \n",
            "                                                                                                  \n",
            " conv4_block6_2_relu (Activatio  (None, None, None,   0          ['conv4_block6_2_bn[0][0]']      \n",
            " n)                             256)                                                              \n",
            "                                                                                                  \n",
            " conv4_block6_3_conv (Conv2D)   (None, None, None,   263168      ['conv4_block6_2_relu[0][0]']    \n",
            "                                1024)                                                             \n",
            "                                                                                                  \n",
            " conv4_block6_3_bn (BatchNormal  (None, None, None,   4096       ['conv4_block6_3_conv[0][0]']    \n",
            " ization)                       1024)                                                             \n",
            "                                                                                                  \n",
            " conv4_block6_add (Add)         (None, None, None,   0           ['conv4_block5_out[0][0]',       \n",
            "                                1024)                             'conv4_block6_3_bn[0][0]']      \n",
            "                                                                                                  \n",
            " conv4_block6_out (Activation)  (None, None, None,   0           ['conv4_block6_add[0][0]']       \n",
            "                                1024)                                                             \n",
            "                                                                                                  \n",
            " conv5_block1_1_conv (Conv2D)   (None, None, None,   524800      ['conv4_block6_out[0][0]']       \n",
            "                                512)                                                              \n",
            "                                                                                                  \n",
            " conv5_block1_1_bn (BatchNormal  (None, None, None,   2048       ['conv5_block1_1_conv[0][0]']    \n",
            " ization)                       512)                                                              \n",
            "                                                                                                  \n",
            " conv5_block1_1_relu (Activatio  (None, None, None,   0          ['conv5_block1_1_bn[0][0]']      \n",
            " n)                             512)                                                              \n",
            "                                                                                                  \n",
            " conv5_block1_2_conv (Conv2D)   (None, None, None,   2359808     ['conv5_block1_1_relu[0][0]']    \n",
            "                                512)                                                              \n",
            "                                                                                                  \n",
            " conv5_block1_2_bn (BatchNormal  (None, None, None,   2048       ['conv5_block1_2_conv[0][0]']    \n",
            " ization)                       512)                                                              \n",
            "                                                                                                  \n",
            " conv5_block1_2_relu (Activatio  (None, None, None,   0          ['conv5_block1_2_bn[0][0]']      \n",
            " n)                             512)                                                              \n",
            "                                                                                                  \n",
            " conv5_block1_0_conv (Conv2D)   (None, None, None,   2099200     ['conv4_block6_out[0][0]']       \n",
            "                                2048)                                                             \n",
            "                                                                                                  \n",
            " conv5_block1_3_conv (Conv2D)   (None, None, None,   1050624     ['conv5_block1_2_relu[0][0]']    \n",
            "                                2048)                                                             \n",
            "                                                                                                  \n",
            " conv5_block1_0_bn (BatchNormal  (None, None, None,   8192       ['conv5_block1_0_conv[0][0]']    \n",
            " ization)                       2048)                                                             \n",
            "                                                                                                  \n",
            " conv5_block1_3_bn (BatchNormal  (None, None, None,   8192       ['conv5_block1_3_conv[0][0]']    \n",
            " ization)                       2048)                                                             \n",
            "                                                                                                  \n",
            " conv5_block1_add (Add)         (None, None, None,   0           ['conv5_block1_0_bn[0][0]',      \n",
            "                                2048)                             'conv5_block1_3_bn[0][0]']      \n",
            "                                                                                                  \n",
            " conv5_block1_out (Activation)  (None, None, None,   0           ['conv5_block1_add[0][0]']       \n",
            "                                2048)                                                             \n",
            "                                                                                                  \n",
            " conv5_block2_1_conv (Conv2D)   (None, None, None,   1049088     ['conv5_block1_out[0][0]']       \n",
            "                                512)                                                              \n",
            "                                                                                                  \n",
            " conv5_block2_1_bn (BatchNormal  (None, None, None,   2048       ['conv5_block2_1_conv[0][0]']    \n",
            " ization)                       512)                                                              \n",
            "                                                                                                  \n",
            " conv5_block2_1_relu (Activatio  (None, None, None,   0          ['conv5_block2_1_bn[0][0]']      \n",
            " n)                             512)                                                              \n",
            "                                                                                                  \n",
            " conv5_block2_2_conv (Conv2D)   (None, None, None,   2359808     ['conv5_block2_1_relu[0][0]']    \n",
            "                                512)                                                              \n",
            "                                                                                                  \n",
            " conv5_block2_2_bn (BatchNormal  (None, None, None,   2048       ['conv5_block2_2_conv[0][0]']    \n",
            " ization)                       512)                                                              \n",
            "                                                                                                  \n",
            " conv5_block2_2_relu (Activatio  (None, None, None,   0          ['conv5_block2_2_bn[0][0]']      \n",
            " n)                             512)                                                              \n",
            "                                                                                                  \n",
            " conv5_block2_3_conv (Conv2D)   (None, None, None,   1050624     ['conv5_block2_2_relu[0][0]']    \n",
            "                                2048)                                                             \n",
            "                                                                                                  \n",
            " conv5_block2_3_bn (BatchNormal  (None, None, None,   8192       ['conv5_block2_3_conv[0][0]']    \n",
            " ization)                       2048)                                                             \n",
            "                                                                                                  \n",
            " conv5_block2_add (Add)         (None, None, None,   0           ['conv5_block1_out[0][0]',       \n",
            "                                2048)                             'conv5_block2_3_bn[0][0]']      \n",
            "                                                                                                  \n",
            " conv5_block2_out (Activation)  (None, None, None,   0           ['conv5_block2_add[0][0]']       \n",
            "                                2048)                                                             \n",
            "                                                                                                  \n",
            " conv5_block3_1_conv (Conv2D)   (None, None, None,   1049088     ['conv5_block2_out[0][0]']       \n",
            "                                512)                                                              \n",
            "                                                                                                  \n",
            " conv5_block3_1_bn (BatchNormal  (None, None, None,   2048       ['conv5_block3_1_conv[0][0]']    \n",
            " ization)                       512)                                                              \n",
            "                                                                                                  \n",
            " conv5_block3_1_relu (Activatio  (None, None, None,   0          ['conv5_block3_1_bn[0][0]']      \n",
            " n)                             512)                                                              \n",
            "                                                                                                  \n",
            " conv5_block3_2_conv (Conv2D)   (None, None, None,   2359808     ['conv5_block3_1_relu[0][0]']    \n",
            "                                512)                                                              \n",
            "                                                                                                  \n",
            " conv5_block3_2_bn (BatchNormal  (None, None, None,   2048       ['conv5_block3_2_conv[0][0]']    \n",
            " ization)                       512)                                                              \n",
            "                                                                                                  \n",
            " conv5_block3_2_relu (Activatio  (None, None, None,   0          ['conv5_block3_2_bn[0][0]']      \n",
            " n)                             512)                                                              \n",
            "                                                                                                  \n",
            " conv5_block3_3_conv (Conv2D)   (None, None, None,   1050624     ['conv5_block3_2_relu[0][0]']    \n",
            "                                2048)                                                             \n",
            "                                                                                                  \n",
            " conv5_block3_3_bn (BatchNormal  (None, None, None,   8192       ['conv5_block3_3_conv[0][0]']    \n",
            " ization)                       2048)                                                             \n",
            "                                                                                                  \n",
            " conv5_block3_add (Add)         (None, None, None,   0           ['conv5_block2_out[0][0]',       \n",
            "                                2048)                             'conv5_block3_3_bn[0][0]']      \n",
            "                                                                                                  \n",
            " conv5_block3_out (Activation)  (None, None, None,   0           ['conv5_block3_add[0][0]']       \n",
            "                                2048)                                                             \n",
            "                                                                                                  \n",
            " resize_1 (Lambda)              (None, None, None,   0           ['conv5_block3_out[0][0]']       \n",
            "                                2048)                                                             \n",
            "                                                                                                  \n",
            " concatenate (Concatenate)      (None, None, None,   0           ['resize_1[0][0]',               \n",
            "                                3072)                             'conv4_block6_out[0][0]']       \n",
            "                                                                                                  \n",
            " conv2d (Conv2D)                (None, None, None,   393344      ['concatenate[0][0]']            \n",
            "                                128)                                                              \n",
            "                                                                                                  \n",
            " batch_normalization (BatchNorm  (None, None, None,   512        ['conv2d[0][0]']                 \n",
            " alization)                     128)                                                              \n",
            "                                                                                                  \n",
            " activation (Activation)        (None, None, None,   0           ['batch_normalization[0][0]']    \n",
            "                                128)                                                              \n",
            "                                                                                                  \n",
            " conv2d_1 (Conv2D)              (None, None, None,   147584      ['activation[0][0]']             \n",
            "                                128)                                                              \n",
            "                                                                                                  \n",
            " batch_normalization_1 (BatchNo  (None, None, None,   512        ['conv2d_1[0][0]']               \n",
            " rmalization)                   128)                                                              \n",
            "                                                                                                  \n",
            " activation_1 (Activation)      (None, None, None,   0           ['batch_normalization_1[0][0]']  \n",
            "                                128)                                                              \n",
            "                                                                                                  \n",
            " resize_2 (Lambda)              (None, None, None,   0           ['activation_1[0][0]']           \n",
            "                                128)                                                              \n",
            "                                                                                                  \n",
            " concatenate_1 (Concatenate)    (None, None, None,   0           ['resize_2[0][0]',               \n",
            "                                640)                              'conv3_block4_out[0][0]']       \n",
            "                                                                                                  \n",
            " conv2d_2 (Conv2D)              (None, None, None,   41024       ['concatenate_1[0][0]']          \n",
            "                                64)                                                               \n",
            "                                                                                                  \n",
            " batch_normalization_2 (BatchNo  (None, None, None,   256        ['conv2d_2[0][0]']               \n",
            " rmalization)                   64)                                                               \n",
            "                                                                                                  \n",
            " activation_2 (Activation)      (None, None, None,   0           ['batch_normalization_2[0][0]']  \n",
            "                                64)                                                               \n",
            "                                                                                                  \n",
            " conv2d_3 (Conv2D)              (None, None, None,   36928       ['activation_2[0][0]']           \n",
            "                                64)                                                               \n",
            "                                                                                                  \n",
            " batch_normalization_3 (BatchNo  (None, None, None,   256        ['conv2d_3[0][0]']               \n",
            " rmalization)                   64)                                                               \n",
            "                                                                                                  \n",
            " activation_3 (Activation)      (None, None, None,   0           ['batch_normalization_3[0][0]']  \n",
            "                                64)                                                               \n",
            "                                                                                                  \n",
            " resize_3 (Lambda)              (None, None, None,   0           ['activation_3[0][0]']           \n",
            "                                64)                                                               \n",
            "                                                                                                  \n",
            " concatenate_2 (Concatenate)    (None, None, None,   0           ['resize_3[0][0]',               \n",
            "                                320)                              'conv2_block3_out[0][0]']       \n",
            "                                                                                                  \n",
            " conv2d_4 (Conv2D)              (None, None, None,   10272       ['concatenate_2[0][0]']          \n",
            "                                32)                                                               \n",
            "                                                                                                  \n",
            " batch_normalization_4 (BatchNo  (None, None, None,   128        ['conv2d_4[0][0]']               \n",
            " rmalization)                   32)                                                               \n",
            "                                                                                                  \n",
            " activation_4 (Activation)      (None, None, None,   0           ['batch_normalization_4[0][0]']  \n",
            "                                32)                                                               \n",
            "                                                                                                  \n",
            " conv2d_5 (Conv2D)              (None, None, None,   9248        ['activation_4[0][0]']           \n",
            "                                32)                                                               \n",
            "                                                                                                  \n",
            " batch_normalization_5 (BatchNo  (None, None, None,   128        ['conv2d_5[0][0]']               \n",
            " rmalization)                   32)                                                               \n",
            "                                                                                                  \n",
            " activation_5 (Activation)      (None, None, None,   0           ['batch_normalization_5[0][0]']  \n",
            "                                32)                                                               \n",
            "                                                                                                  \n",
            " conv2d_6 (Conv2D)              (None, None, None,   9248        ['activation_5[0][0]']           \n",
            "                                32)                                                               \n",
            "                                                                                                  \n",
            " batch_normalization_6 (BatchNo  (None, None, None,   128        ['conv2d_6[0][0]']               \n",
            " rmalization)                   32)                                                               \n",
            "                                                                                                  \n",
            " activation_6 (Activation)      (None, None, None,   0           ['batch_normalization_6[0][0]']  \n",
            "                                32)                                                               \n",
            "                                                                                                  \n",
            " rbox_geo_map (Conv2D)          (None, None, None,   132         ['activation_6[0][0]']           \n",
            "                                4)                                                                \n",
            "                                                                                                  \n",
            " rbox_angle_map (Conv2D)        (None, None, None,   33          ['activation_6[0][0]']           \n",
            "                                1)                                                                \n",
            "                                                                                                  \n",
            " lambda (Lambda)                (None, None, None,   0           ['rbox_geo_map[0][0]']           \n",
            "                                4)                                                                \n",
            "                                                                                                  \n",
            " lambda_1 (Lambda)              (None, None, None,   0           ['rbox_angle_map[0][0]']         \n",
            "                                1)                                                                \n",
            "                                                                                                  \n",
            " pred_score_map (Conv2D)        (None, None, None,   33          ['activation_6[0][0]']           \n",
            "                                1)                                                                \n",
            "                                                                                                  \n",
            " pred_geo_map (Concatenate)     (None, None, None,   0           ['lambda[0][0]',                 \n",
            "                                5)                                'lambda_1[0][0]']               \n",
            "                                                                                                  \n",
            "==================================================================================================\n",
            "Total params: 24,237,478\n",
            "Trainable params: 24,183,398\n",
            "Non-trainable params: 54,080\n",
            "__________________________________________________________________________________________________\n",
            "1000 training images in ./data/ICDAR2015/train_data/\n",
            "Step 000000, dice_loss 0.0099, rbox_loss 0.0199, total_loss 0.0298\n",
            "global_step : 0, checkpoint is saved!\n",
            "Traceback (most recent call last):\n",
            "  File \"/content/EAST-tf2/train.py\", line 139, in <module>\n",
            "    app.run(main)\n",
            "  File \"/usr/local/lib/python3.9/dist-packages/absl/app.py\", line 308, in run\n",
            "    _run_main(main, args)\n",
            "  File \"/usr/local/lib/python3.9/dist-packages/absl/app.py\", line 254, in _run_main\n",
            "    sys.exit(main(argv))\n",
            "  File \"/content/EAST-tf2/train.py\", line 122, in main\n",
            "    tf.summary.scalar('learning_rate ', optimizer.lr(ckpt.step).numpy(), step=int(ckpt.step))\n",
            "TypeError: 'ResourceVariable' object is not callable\n"
          ]
        }
      ]
    },
    {
      "cell_type": "code",
      "source": [
        "!zip -r /content/EAST-tf2/east_resnet_50_rbox.zip /content/EAST-tf2/east_resnet_50_rbox"
      ],
      "metadata": {
        "id": "XOy_IMrgvrmf",
        "colab": {
          "base_uri": "https://localhost:8080/"
        },
        "outputId": "71a4e9f9-ffa3-4f65-e3bb-de93e211a663"
      },
      "execution_count": 13,
      "outputs": [
        {
          "output_type": "stream",
          "name": "stdout",
          "text": [
            "  adding: content/EAST-tf2/east_resnet_50_rbox/ (stored 0%)\n",
            "  adding: content/EAST-tf2/east_resnet_50_rbox/ckpt-0.index (deflated 80%)\n",
            "  adding: content/EAST-tf2/east_resnet_50_rbox/train/ (stored 0%)\n",
            "  adding: content/EAST-tf2/east_resnet_50_rbox/train/events.out.tfevents.1681627779.86e4d8169475.7812.0.v2 (deflated 28%)\n",
            "  adding: content/EAST-tf2/east_resnet_50_rbox/ckpt-0.data-00000-of-00001 (deflated 7%)\n",
            "  adding: content/EAST-tf2/east_resnet_50_rbox/checkpoint (deflated 41%)\n"
          ]
        }
      ]
    },
    {
      "cell_type": "code",
      "source": [
        "from google.colab import files\n",
        "files.download(\"/content/EAST-tf2/east_resnet_50_rbox.zip\")"
      ],
      "metadata": {
        "id": "TacPF5UZvrii",
        "colab": {
          "base_uri": "https://localhost:8080/",
          "height": 17
        },
        "outputId": "90eb7089-9ff6-459b-b45f-ef6a4ebc7731"
      },
      "execution_count": 14,
      "outputs": [
        {
          "output_type": "display_data",
          "data": {
            "text/plain": [
              "<IPython.core.display.Javascript object>"
            ],
            "application/javascript": [
              "\n",
              "    async function download(id, filename, size) {\n",
              "      if (!google.colab.kernel.accessAllowed) {\n",
              "        return;\n",
              "      }\n",
              "      const div = document.createElement('div');\n",
              "      const label = document.createElement('label');\n",
              "      label.textContent = `Downloading \"${filename}\": `;\n",
              "      div.appendChild(label);\n",
              "      const progress = document.createElement('progress');\n",
              "      progress.max = size;\n",
              "      div.appendChild(progress);\n",
              "      document.body.appendChild(div);\n",
              "\n",
              "      const buffers = [];\n",
              "      let downloaded = 0;\n",
              "\n",
              "      const channel = await google.colab.kernel.comms.open(id);\n",
              "      // Send a message to notify the kernel that we're ready.\n",
              "      channel.send({})\n",
              "\n",
              "      for await (const message of channel.messages) {\n",
              "        // Send a message to notify the kernel that we're ready.\n",
              "        channel.send({})\n",
              "        if (message.buffers) {\n",
              "          for (const buffer of message.buffers) {\n",
              "            buffers.push(buffer);\n",
              "            downloaded += buffer.byteLength;\n",
              "            progress.value = downloaded;\n",
              "          }\n",
              "        }\n",
              "      }\n",
              "      const blob = new Blob(buffers, {type: 'application/binary'});\n",
              "      const a = document.createElement('a');\n",
              "      a.href = window.URL.createObjectURL(blob);\n",
              "      a.download = filename;\n",
              "      div.appendChild(a);\n",
              "      a.click();\n",
              "      div.remove();\n",
              "    }\n",
              "  "
            ]
          },
          "metadata": {}
        },
        {
          "output_type": "display_data",
          "data": {
            "text/plain": [
              "<IPython.core.display.Javascript object>"
            ],
            "application/javascript": [
              "download(\"download_3fdb0cb0-7793-405d-94d4-8f2368d1d5a9\", \"east_resnet_50_rbox.zip\", 89935158)"
            ]
          },
          "metadata": {}
        }
      ]
    },
    {
      "cell_type": "code",
      "source": [
        "%cd lanms"
      ],
      "metadata": {
        "colab": {
          "base_uri": "https://localhost:8080/"
        },
        "id": "DG86xPdz0_NF",
        "outputId": "ee1b75b1-1bef-43e3-eff2-6a80f1818e4a"
      },
      "execution_count": 15,
      "outputs": [
        {
          "output_type": "stream",
          "name": "stdout",
          "text": [
            "/content/EAST-tf2/lanms\n"
          ]
        }
      ]
    },
    {
      "cell_type": "code",
      "source": [
        "!make clean"
      ],
      "metadata": {
        "colab": {
          "base_uri": "https://localhost:8080/"
        },
        "id": "Iiavx8LI0_Kw",
        "outputId": "3c37c0b8-ff0e-4070-c096-e1c198ff6edb"
      },
      "execution_count": 16,
      "outputs": [
        {
          "output_type": "stream",
          "name": "stdout",
          "text": [
            "rm -rf adaptor.so\n"
          ]
        }
      ]
    },
    {
      "cell_type": "code",
      "source": [
        "!wget https://gist.githubusercontent.com/solaris33/331c3a8f6b909b9d10766040eb1929a5/raw/72cd4188035458440281dc2a0ed9d4e4953d7eea/Makefile -O Makefile"
      ],
      "metadata": {
        "colab": {
          "base_uri": "https://localhost:8080/"
        },
        "id": "bisdk-zw0_Ih",
        "outputId": "ed3a32ae-afe8-49bb-a2f9-f51f0e8172aa"
      },
      "execution_count": 17,
      "outputs": [
        {
          "output_type": "stream",
          "name": "stdout",
          "text": [
            "--2023-04-16 06:50:34--  https://gist.githubusercontent.com/solaris33/331c3a8f6b909b9d10766040eb1929a5/raw/72cd4188035458440281dc2a0ed9d4e4953d7eea/Makefile\n",
            "Resolving gist.githubusercontent.com (gist.githubusercontent.com)... 185.199.108.133, 185.199.109.133, 185.199.110.133, ...\n",
            "Connecting to gist.githubusercontent.com (gist.githubusercontent.com)|185.199.108.133|:443... connected.\n",
            "HTTP request sent, awaiting response... 200 OK\n",
            "Length: 369 [text/plain]\n",
            "Saving to: ‘Makefile’\n",
            "\n",
            "\rMakefile              0%[                    ]       0  --.-KB/s               \rMakefile            100%[===================>]     369  --.-KB/s    in 0s      \n",
            "\n",
            "2023-04-16 06:50:34 (19.3 MB/s) - ‘Makefile’ saved [369/369]\n",
            "\n"
          ]
        }
      ]
    },
    {
      "cell_type": "code",
      "source": [
        "!make"
      ],
      "metadata": {
        "colab": {
          "base_uri": "https://localhost:8080/"
        },
        "id": "YBrwqqDq0_GM",
        "outputId": "fcfc0dae-a1b8-43aa-9e79-85b1ec709619"
      },
      "execution_count": 18,
      "outputs": [
        {
          "output_type": "stream",
          "name": "stdout",
          "text": [
            "make: python3.7-config: Command not found\n",
            "make: python3.7-config: Command not found\n",
            "g++ -o adaptor.so -I include  -std=c++11 -O3   adaptor.cpp include/clipper/clipper.cpp --shared -fPIC\n",
            "In file included from \u001b[01m\u001b[Kinclude/pybind11/pytypes.h:12\u001b[m\u001b[K,\n",
            "                 from \u001b[01m\u001b[Kinclude/pybind11/cast.h:13\u001b[m\u001b[K,\n",
            "                 from \u001b[01m\u001b[Kinclude/pybind11/attr.h:13\u001b[m\u001b[K,\n",
            "                 from \u001b[01m\u001b[Kinclude/pybind11/pybind11.h:43\u001b[m\u001b[K,\n",
            "                 from \u001b[01m\u001b[Kadaptor.cpp:1\u001b[m\u001b[K:\n",
            "\u001b[01m\u001b[Kinclude/pybind11/common.h:100:10:\u001b[m\u001b[K \u001b[01;31m\u001b[Kfatal error: \u001b[m\u001b[KPython.h: No such file or directory\n",
            "  100 | #include \u001b[01;31m\u001b[K<Python.h>\u001b[m\u001b[K\n",
            "      |          \u001b[01;31m\u001b[K^~~~~~~~~~\u001b[m\u001b[K\n",
            "compilation terminated.\n",
            "make: *** [Makefile:10: adaptor.so] Error 1\n"
          ]
        }
      ]
    },
    {
      "cell_type": "code",
      "source": [
        "%cd .."
      ],
      "metadata": {
        "colab": {
          "base_uri": "https://localhost:8080/"
        },
        "id": "901HdddT0_D3",
        "outputId": "7b94cc1f-8861-471b-8590-f390b715fdf2"
      },
      "execution_count": 19,
      "outputs": [
        {
          "output_type": "stream",
          "name": "stdout",
          "text": [
            "/content/EAST-tf2\n"
          ]
        }
      ]
    },
    {
      "cell_type": "code",
      "source": [
        "!python eval.py \\\n",
        "--test_data_path=\"./data/ICDAR2015/test_data\" \\\n",
        "--model_path=\"./east_resnet_50_rbox/\" \\\n",
        "--output_dir=\"./data/ICDAR2015/test_data_output/\""
      ],
      "metadata": {
        "colab": {
          "base_uri": "https://localhost:8080/"
        },
        "id": "nclgXVyP0_Bs",
        "outputId": "967ff2c8-7b6f-4163-945a-4ebd905033ab"
      },
      "execution_count": 20,
      "outputs": [
        {
          "output_type": "stream",
          "name": "stdout",
          "text": [
            "2023-04-16 06:51:01.560920: I tensorflow/core/platform/cpu_feature_guard.cc:182] This TensorFlow binary is optimized to use available CPU instructions in performance-critical operations.\n",
            "To enable the following instructions: AVX2 FMA, in other operations, rebuild TensorFlow with the appropriate compiler flags.\n",
            "2023-04-16 06:51:02.750088: W tensorflow/compiler/tf2tensorrt/utils/py_utils.cc:38] TF-TRT Warning: Could not find TensorRT\n",
            "make: Entering directory '/content/EAST-tf2/lanms'\n",
            "make: python3.7-config: Command not found\n",
            "make: python3.7-config: Command not found\n",
            "g++ -o adaptor.so -I include  -std=c++11 -O3   adaptor.cpp include/clipper/clipper.cpp --shared -fPIC\n",
            "In file included from \u001b[01m\u001b[Kinclude/pybind11/pytypes.h:12\u001b[m\u001b[K,\n",
            "                 from \u001b[01m\u001b[Kinclude/pybind11/cast.h:13\u001b[m\u001b[K,\n",
            "                 from \u001b[01m\u001b[Kinclude/pybind11/attr.h:13\u001b[m\u001b[K,\n",
            "                 from \u001b[01m\u001b[Kinclude/pybind11/pybind11.h:43\u001b[m\u001b[K,\n",
            "                 from \u001b[01m\u001b[Kadaptor.cpp:1\u001b[m\u001b[K:\n",
            "\u001b[01m\u001b[Kinclude/pybind11/common.h:100:10:\u001b[m\u001b[K \u001b[01;31m\u001b[Kfatal error: \u001b[m\u001b[KPython.h: No such file or directory\n",
            "  100 | #include \u001b[01;31m\u001b[K<Python.h>\u001b[m\u001b[K\n",
            "      |          \u001b[01;31m\u001b[K^~~~~~~~~~\u001b[m\u001b[K\n",
            "compilation terminated.\n",
            "make: *** [Makefile:10: adaptor.so] Error 1\n",
            "make: Leaving directory '/content/EAST-tf2/lanms'\n",
            "Traceback (most recent call last):\n",
            "  File \"/content/EAST-tf2/eval.py\", line 9, in <module>\n",
            "    import lanms\n",
            "  File \"/content/EAST-tf2/lanms/__init__.py\", line 8, in <module>\n",
            "    raise RuntimeError('Cannot compile lanms: {}'.format(BASE_DIR))\n",
            "RuntimeError: Cannot compile lanms: /content/EAST-tf2/lanms\n"
          ]
        }
      ]
    },
    {
      "cell_type": "markdown",
      "source": [
        "# 실전 프로젝트 실습가이드 - EAST 모델을 License Plate Detection 데이터에 맞게 Fine-Tuning 해보기"
      ],
      "metadata": {
        "id": "PiYYjZ8Y1J3-"
      }
    },
    {
      "cell_type": "markdown",
      "source": [
        "\n",
        "1. license_plate_detection 데이터를 training 데이터와 test 데이터로 나눔 (강사 제공)\n",
        "2. data_preprocessor 함수에서 gt_로 replace하는 부분 삭제 https://github.com/solaris33/EAST-tf2/blob/master/data_processor.py#L588 (icdar2015 데이터셋은 txt 파일 앞에 gt_ 접미어가 붙지만 license_plate_detection 데이터는 jpg파일명과 txt 파일명이 동일함)\n",
        "3. data_preprocessor.py의 load_annotation() 함수에서 데이터를 띄어쓰기 기준으로 split하는 함수 추가 https://github.com/solaris33/EAST-tf2/blob/master/data_processor.py#L45\n",
        "4. 코드 수정한 data_preprocessor.py 파일로 덮어쓰기\n",
        "5. train.py 파일 실행시에 training_data_path 경로를 license plate detection 데이터로 변경해서 license plate detector 데이터셋에 맞게 EAST 파라미터 Fine-Tuning\n",
        "6. 학습이 끝난 모델을 이용해서 eval.py 파일을 이용한 evaluation"
      ],
      "metadata": {
        "id": "Rimx9Jfw1OnO"
      }
    },
    {
      "cell_type": "code",
      "source": [
        "'''\n",
        "load_annotation 함수 분석\n",
        "'''"
      ],
      "metadata": {
        "id": "zAweDRZI0-_S"
      },
      "execution_count": null,
      "outputs": []
    },
    {
      "cell_type": "code",
      "source": [
        "!unzip license_plate_detection_data.zip"
      ],
      "metadata": {
        "id": "z7tOKPE71sk_"
      },
      "execution_count": null,
      "outputs": []
    },
    {
      "cell_type": "code",
      "source": [
        "import os\n",
        "import glob\n",
        "import sklearn.model_selection\n",
        "import shutil\n",
        "import csv\n",
        "import numpy as np"
      ],
      "metadata": {
        "id": "tbkmHuxQ0-88"
      },
      "execution_count": 21,
      "outputs": []
    },
    {
      "cell_type": "code",
      "source": [
        "def load_annotation(p):\n",
        "  '''\n",
        "  load annotation from the text file\n",
        "  :param p:\n",
        "  :return:\n",
        "  '''\n",
        "  text_polys = []\n",
        "  text_tags = []\n",
        "  if not os.path.exists(p):\n",
        "    return np.array(text_polys, dtype=np.float32)\n",
        "  with open(p, 'r') as f:\n",
        "    reader = csv.reader(f)\n",
        "    for line in reader:\n",
        "      label = line[-1]\n",
        "      # strip BOM. \\ufeff for python3,  \\xef\\xbb\\bf for python2\n",
        "      line = [i.strip('\\ufeff').strip('\\xef\\xbb\\xbf') for i in line]\n",
        "      print(line)\n",
        "\n",
        "      x1, y1, x2, y2, x3, y3, x4, y4 = list(map(float, line[:8]))\n",
        "      text_polys.append([[x1, y1], [x2, y2], [x3, y3], [x4, y4]])\n",
        "      if label == '*' or label == '###':\n",
        "        text_tags.append(True)\n",
        "      else:\n",
        "        text_tags.append(False)\n",
        "    return np.array(text_polys, dtype=np.float32), np.array(text_tags, dtype=np.bool)"
      ],
      "metadata": {
        "id": "J_Efm6yw0-63"
      },
      "execution_count": 22,
      "outputs": []
    },
    {
      "cell_type": "code",
      "source": [
        "load_annotation(\"/content/EAST-tf2/data/ICDAR2015/train_data/gt_img_1.txt\")"
      ],
      "metadata": {
        "colab": {
          "base_uri": "https://localhost:8080/"
        },
        "id": "kQ8urgJ10-4h",
        "outputId": "f8e02bf3-b2d1-45d3-d813-9126dd250754"
      },
      "execution_count": 23,
      "outputs": [
        {
          "output_type": "stream",
          "name": "stdout",
          "text": [
            "['377', '117', '463', '117', '465', '130', '378', '130', 'Genaxis Theatre']\n",
            "['493', '115', '519', '115', '519', '131', '493', '131', '[06]']\n",
            "['374', '155', '409', '155', '409', '170', '374', '170', '###']\n",
            "['492', '151', '551', '151', '551', '170', '492', '170', '62-03']\n",
            "['376', '198', '422', '198', '422', '212', '376', '212', 'Carpark']\n",
            "['494', '190', '539', '189', '539', '205', '494', '206', '###']\n",
            "['374', '1', '494', '0', '492', '85', '372', '86', '###']\n"
          ]
        },
        {
          "output_type": "stream",
          "name": "stderr",
          "text": [
            "<ipython-input-22-19b9da1b900e>:25: DeprecationWarning: `np.bool` is a deprecated alias for the builtin `bool`. To silence this warning, use `bool` by itself. Doing this will not modify any behavior and is safe. If you specifically wanted the numpy scalar type, use `np.bool_` here.\n",
            "Deprecated in NumPy 1.20; for more details and guidance: https://numpy.org/devdocs/release/1.20.0-notes.html#deprecations\n",
            "  return np.array(text_polys, dtype=np.float32), np.array(text_tags, dtype=np.bool)\n"
          ]
        },
        {
          "output_type": "execute_result",
          "data": {
            "text/plain": [
              "(array([[[377., 117.],\n",
              "         [463., 117.],\n",
              "         [465., 130.],\n",
              "         [378., 130.]],\n",
              " \n",
              "        [[493., 115.],\n",
              "         [519., 115.],\n",
              "         [519., 131.],\n",
              "         [493., 131.]],\n",
              " \n",
              "        [[374., 155.],\n",
              "         [409., 155.],\n",
              "         [409., 170.],\n",
              "         [374., 170.]],\n",
              " \n",
              "        [[492., 151.],\n",
              "         [551., 151.],\n",
              "         [551., 170.],\n",
              "         [492., 170.]],\n",
              " \n",
              "        [[376., 198.],\n",
              "         [422., 198.],\n",
              "         [422., 212.],\n",
              "         [376., 212.]],\n",
              " \n",
              "        [[494., 190.],\n",
              "         [539., 189.],\n",
              "         [539., 205.],\n",
              "         [494., 206.]],\n",
              " \n",
              "        [[374.,   1.],\n",
              "         [494.,   0.],\n",
              "         [492.,  85.],\n",
              "         [372.,  86.]]], dtype=float32),\n",
              " array([False, False,  True, False, False,  True,  True]))"
            ]
          },
          "metadata": {},
          "execution_count": 23
        }
      ]
    },
    {
      "cell_type": "code",
      "source": [
        "'''\n",
        "train test split\n",
        "'''"
      ],
      "metadata": {
        "id": "pQZhVhqU0-2V"
      },
      "execution_count": null,
      "outputs": []
    },
    {
      "cell_type": "code",
      "source": [
        "cache_dir = '.'\n",
        "main_dir = os.path.join(cache_dir, 'license_plate_detection_data')\n",
        "training_images_dir = os.path.join(main_dir, 'images')\n",
        "training_gt_dir = os.path.join(main_dir, 'annotations')"
      ],
      "metadata": {
        "id": "sSD-U_CI0-0J"
      },
      "execution_count": 30,
      "outputs": []
    },
    {
      "cell_type": "code",
      "source": [
        "training_gt_dir"
      ],
      "metadata": {
        "colab": {
          "base_uri": "https://localhost:8080/",
          "height": 36
        },
        "id": "2HOiTMW40-yA",
        "outputId": "92164150-33ce-42fd-e019-69302c71fc0f"
      },
      "execution_count": 31,
      "outputs": [
        {
          "output_type": "execute_result",
          "data": {
            "text/plain": [
              "'./license_plate_detection_data/annotations'"
            ],
            "application/vnd.google.colaboratory.intrinsic+json": {
              "type": "string"
            }
          },
          "metadata": {},
          "execution_count": 31
        }
      ]
    },
    {
      "cell_type": "code",
      "source": [
        "gt_list = glob.glob(os.path.join(training_gt_dir, '*.txt'))\n",
        "print(gt_list)"
      ],
      "metadata": {
        "colab": {
          "base_uri": "https://localhost:8080/"
        },
        "id": "gzt8jVKs0-vg",
        "outputId": "e131de55-f7f9-41dd-e6f5-0dd89736dd2e"
      },
      "execution_count": 32,
      "outputs": [
        {
          "output_type": "stream",
          "name": "stdout",
          "text": [
            "['./license_plate_detection_data/annotations/wts-lg-000073.txt', './license_plate_detection_data/annotations/wts-lg-000034.txt', './license_plate_detection_data/annotations/12c6cb72-3ea3-49e7-b381-e0cdfc5e8960.txt', './license_plate_detection_data/annotations/wts-lg-000027.txt', './license_plate_detection_data/annotations/wts-lg-000029.txt', './license_plate_detection_data/annotations/wts-lg-000025.txt', './license_plate_detection_data/annotations/car14.txt', './license_plate_detection_data/annotations/37170dd1-2802-4e38-b982-c5d07c64ff67.txt', './license_plate_detection_data/annotations/wts-lg-000151.txt', './license_plate_detection_data/annotations/car9-5.txt', './license_plate_detection_data/annotations/wts-lg-000086.txt', './license_plate_detection_data/annotations/wts-lg-000020.txt', './license_plate_detection_data/annotations/wts-lg-000125.txt', './license_plate_detection_data/annotations/wts-lg-000082.txt', './license_plate_detection_data/annotations/us4.txt', './license_plate_detection_data/annotations/wts-lg-000087.txt', './license_plate_detection_data/annotations/wts-lg-000169.txt', './license_plate_detection_data/annotations/wts-lg-000181.txt', './license_plate_detection_data/annotations/wts-lg-000122.txt', './license_plate_detection_data/annotations/wts-lg-000196.txt', './license_plate_detection_data/annotations/wts-lg-000101.txt', './license_plate_detection_data/annotations/wts-lg-000040.txt', './license_plate_detection_data/annotations/wts-lg-000055.txt', './license_plate_detection_data/annotations/d4f79480-366a-40b6-ab2c-328bcba705b2.txt', './license_plate_detection_data/annotations/wts-lg-000021.txt', './license_plate_detection_data/annotations/wts-lg-000120.txt', './license_plate_detection_data/annotations/wts-lg-000091.txt', './license_plate_detection_data/annotations/21d8c31d-3deb-494b-9c63-c0223306fd82.txt', './license_plate_detection_data/annotations/wts-lg-000146.txt', './license_plate_detection_data/annotations/wts-lg-000049.txt', './license_plate_detection_data/annotations/c9368c55-210d-456c-a5ef-c310e60039ec.txt', './license_plate_detection_data/annotations/wts-lg-000080.txt', './license_plate_detection_data/annotations/wts-lg-000155.txt', './license_plate_detection_data/annotations/car11.txt', './license_plate_detection_data/annotations/wts-lg-000014.txt', './license_plate_detection_data/annotations/wts-lg-000143.txt', './license_plate_detection_data/annotations/wts-lg-000157.txt', './license_plate_detection_data/annotations/wts-lg-000088.txt', './license_plate_detection_data/annotations/wts-lg-000145.txt', './license_plate_detection_data/annotations/car19.txt', './license_plate_detection_data/annotations/wts-lg-000150.txt', './license_plate_detection_data/annotations/wts-lg-000032.txt', './license_plate_detection_data/annotations/car5.txt', './license_plate_detection_data/annotations/wts-lg-000059.txt', './license_plate_detection_data/annotations/wts-lg-000090.txt', './license_plate_detection_data/annotations/wts-lg-000045.txt', './license_plate_detection_data/annotations/wts-lg-000013.txt', './license_plate_detection_data/annotations/wts-lg-000152.txt', './license_plate_detection_data/annotations/wts-lg-000161.txt', './license_plate_detection_data/annotations/wts-lg-000129.txt', './license_plate_detection_data/annotations/f8fc5e59-9083-466b-ae3f-6b869a0b257b.txt', './license_plate_detection_data/annotations/wts-lg-000037.txt', './license_plate_detection_data/annotations/wts-lg-000171.txt', './license_plate_detection_data/annotations/wts-lg-000079.txt', './license_plate_detection_data/annotations/wts-lg-000012.txt', './license_plate_detection_data/annotations/us7.txt', './license_plate_detection_data/annotations/wts-lg-000162.txt', './license_plate_detection_data/annotations/wts-lg-000137.txt', './license_plate_detection_data/annotations/car7.txt', './license_plate_detection_data/annotations/us6.txt', './license_plate_detection_data/annotations/car9-1.txt', './license_plate_detection_data/annotations/wts-lg-000036.txt', './license_plate_detection_data/annotations/car9-7.txt', './license_plate_detection_data/annotations/car13.txt', './license_plate_detection_data/annotations/wts-lg-000011.txt', './license_plate_detection_data/annotations/wts-lg-000068.txt', './license_plate_detection_data/annotations/22e54a62-57a8-4a0a-88c1-4b9758f67651.txt', './license_plate_detection_data/annotations/car9-2.txt', './license_plate_detection_data/annotations/wts-lg-000078.txt', './license_plate_detection_data/annotations/car12.txt', './license_plate_detection_data/annotations/wts-lg-000190.txt', './license_plate_detection_data/annotations/wts-lg-000067.txt', './license_plate_detection_data/annotations/wts-lg-000062.txt', './license_plate_detection_data/annotations/wts-lg-000168.txt', './license_plate_detection_data/annotations/1e241dc8-8f18-4955-8988-03a0ab49f813.txt', './license_plate_detection_data/annotations/us3.txt', './license_plate_detection_data/annotations/us2.txt', './license_plate_detection_data/annotations/car20.txt', './license_plate_detection_data/annotations/wts-lg-000131.txt', './license_plate_detection_data/annotations/wts-lg-000172.txt', './license_plate_detection_data/annotations/wts-lg-000016.txt', './license_plate_detection_data/annotations/wts-lg-000170.txt', './license_plate_detection_data/annotations/3850ba91-3c64-4c64-acba-0c46b61ec0da.txt', './license_plate_detection_data/annotations/car8.txt', './license_plate_detection_data/annotations/wts-lg-000022.txt', './license_plate_detection_data/annotations/wts-lg-000041.txt', './license_plate_detection_data/annotations/wts-lg-000160.txt', './license_plate_detection_data/annotations/wts-lg-000085.txt', './license_plate_detection_data/annotations/wts-lg-000077.txt', './license_plate_detection_data/annotations/wts-lg-000135.txt', './license_plate_detection_data/annotations/car9-0.txt', './license_plate_detection_data/annotations/wts-lg-000192.txt', './license_plate_detection_data/annotations/wts-lg-000018.txt', './license_plate_detection_data/annotations/wts-lg-000193.txt', './license_plate_detection_data/annotations/car21.txt', './license_plate_detection_data/annotations/wts-lg-000035.txt', './license_plate_detection_data/annotations/wts-lg-000076.txt', './license_plate_detection_data/annotations/wts-lg-000186.txt', './license_plate_detection_data/annotations/5b562a61-34ad-4f00-9164-d34abb7a38e4.txt', './license_plate_detection_data/annotations/wts-lg-000100.txt', './license_plate_detection_data/annotations/wts-lg-000167.txt', './license_plate_detection_data/annotations/wts-lg-000113.txt', './license_plate_detection_data/annotations/wts-lg-000141.txt', './license_plate_detection_data/annotations/33fa5185-0286-4e8f-b775-46162eba39d4.txt', './license_plate_detection_data/annotations/wts-lg-000060.txt', './license_plate_detection_data/annotations/cfaa9dd2-a388-4e92-bb3a-ae65c28d8139.txt', './license_plate_detection_data/annotations/car18.txt', './license_plate_detection_data/annotations/wts-lg-000158.txt', './license_plate_detection_data/annotations/wts-lg-000030.txt', './license_plate_detection_data/annotations/wts-lg-000075.txt', './license_plate_detection_data/annotations/wts-lg-000148.txt', './license_plate_detection_data/annotations/wts-lg-000177.txt', './license_plate_detection_data/annotations/wts-lg-000048.txt', './license_plate_detection_data/annotations/wts-lg-000010.txt', './license_plate_detection_data/annotations/wts-lg-000056.txt', './license_plate_detection_data/annotations/wts-lg-000052.txt', './license_plate_detection_data/annotations/wts-lg-000189.txt', './license_plate_detection_data/annotations/wts-lg-000176.txt', './license_plate_detection_data/annotations/wts-lg-000038.txt', './license_plate_detection_data/annotations/wts-lg-000098.txt', './license_plate_detection_data/annotations/wts-lg-000130.txt', './license_plate_detection_data/annotations/wts-lg-000053.txt', './license_plate_detection_data/annotations/7fbfbe28-aecb-45be-bd05-7cf26acb3c5c.txt', './license_plate_detection_data/annotations/wts-lg-000121.txt', './license_plate_detection_data/annotations/wts-lg-000140.txt', './license_plate_detection_data/annotations/wts-lg-000096.txt', './license_plate_detection_data/annotations/wts-lg-000139.txt', './license_plate_detection_data/annotations/car15.txt', './license_plate_detection_data/annotations/car22.txt', './license_plate_detection_data/annotations/wts-lg-000188.txt', './license_plate_detection_data/annotations/wts-lg-000023.txt', './license_plate_detection_data/annotations/car9.txt', './license_plate_detection_data/annotations/wts-lg-000179.txt', './license_plate_detection_data/annotations/wts-lg-000117.txt', './license_plate_detection_data/annotations/wts-lg-000063.txt', './license_plate_detection_data/annotations/wts-lg-000024.txt', './license_plate_detection_data/annotations/wts-lg-000057.txt', './license_plate_detection_data/annotations/wts-lg-000166.txt', './license_plate_detection_data/annotations/car9-4.txt', './license_plate_detection_data/annotations/wts-lg-000084.txt', './license_plate_detection_data/annotations/wts-lg-000047.txt', './license_plate_detection_data/annotations/wts-lg-000042.txt', './license_plate_detection_data/annotations/wts-lg-000128.txt', './license_plate_detection_data/annotations/car17.txt', './license_plate_detection_data/annotations/wts-lg-000149.txt', './license_plate_detection_data/annotations/wts-lg-000089.txt', './license_plate_detection_data/annotations/us5.txt', './license_plate_detection_data/annotations/car2.txt', './license_plate_detection_data/annotations/wts-lg-000031.txt', './license_plate_detection_data/annotations/wts-lg-000175.txt', './license_plate_detection_data/annotations/car9-9.txt', './license_plate_detection_data/annotations/wts-lg-000147.txt', './license_plate_detection_data/annotations/wts-lg-000115.txt', './license_plate_detection_data/annotations/wts-lg-000074.txt', './license_plate_detection_data/annotations/wts-lg-000069.txt', './license_plate_detection_data/annotations/wts-lg-000197.txt', './license_plate_detection_data/annotations/wts-lg-000164.txt', './license_plate_detection_data/annotations/wts-lg-000127.txt', './license_plate_detection_data/annotations/wts-lg-000136.txt', './license_plate_detection_data/annotations/wts-lg-000028.txt', './license_plate_detection_data/annotations/wts-lg-000033.txt', './license_plate_detection_data/annotations/wts-lg-000165.txt', './license_plate_detection_data/annotations/wts-lg-000195.txt', './license_plate_detection_data/annotations/wts-lg-000083.txt', './license_plate_detection_data/annotations/car1.txt', './license_plate_detection_data/annotations/car16.txt', './license_plate_detection_data/annotations/wts-lg-000159.txt', './license_plate_detection_data/annotations/wts-lg-000133.txt', './license_plate_detection_data/annotations/wts-lg-000194.txt', './license_plate_detection_data/annotations/wts-lg-000124.txt', './license_plate_detection_data/annotations/wts-lg-000118.txt', './license_plate_detection_data/annotations/wts-lg-000154.txt', './license_plate_detection_data/annotations/wts-lg-000191.txt', './license_plate_detection_data/annotations/us1.txt', './license_plate_detection_data/annotations/wts-lg-000072.txt', './license_plate_detection_data/annotations/wts-lg-000058.txt', './license_plate_detection_data/annotations/316b64c0-55bf-4079-a1c0-d93f461a576f.txt', './license_plate_detection_data/annotations/wts-lg-000144.txt', './license_plate_detection_data/annotations/wts-lg-000178.txt', './license_plate_detection_data/annotations/wts-lg-000070.txt', './license_plate_detection_data/annotations/wts-lg-000132.txt', './license_plate_detection_data/annotations/car6.txt', './license_plate_detection_data/annotations/wts-lg-000119.txt', './license_plate_detection_data/annotations/wts-lg-000065.txt', './license_plate_detection_data/annotations/0b86cecf-67d1-4fc0-87c9-b36b0ee228bb.txt', './license_plate_detection_data/annotations/wts-lg-000187.txt', './license_plate_detection_data/annotations/wts-lg-000163.txt', './license_plate_detection_data/annotations/wts-lg-000061.txt', './license_plate_detection_data/annotations/a03ced3f-5a97-4e75-8106-fabfd2b8b76e.txt', './license_plate_detection_data/annotations/wts-lg-000123.txt', './license_plate_detection_data/annotations/wts-lg-000134.txt', './license_plate_detection_data/annotations/f0a3b8c0-198a-471b-9ca9-345c3dd28073.txt', './license_plate_detection_data/annotations/wts-lg-000051.txt', './license_plate_detection_data/annotations/wts-lg-000044.txt', './license_plate_detection_data/annotations/wts-lg-000050.txt', './license_plate_detection_data/annotations/wts-lg-000094.txt', './license_plate_detection_data/annotations/us10.txt', './license_plate_detection_data/annotations/wts-lg-000071.txt', './license_plate_detection_data/annotations/wts-lg-000142.txt', './license_plate_detection_data/annotations/wts-lg-000064.txt', './license_plate_detection_data/annotations/us8.txt', './license_plate_detection_data/annotations/wts-lg-000039.txt', './license_plate_detection_data/annotations/wts-lg-000066.txt', './license_plate_detection_data/annotations/wts-lg-000097.txt', './license_plate_detection_data/annotations/wts-lg-000199.txt', './license_plate_detection_data/annotations/e73fd200-7ba4-4725-9d1d-2ec710864df6.txt', './license_plate_detection_data/annotations/wts-lg-000173.txt', './license_plate_detection_data/annotations/wts-lg-000138.txt', './license_plate_detection_data/annotations/wts-lg-000095.txt', './license_plate_detection_data/annotations/wts-lg-000099.txt', './license_plate_detection_data/annotations/wts-lg-000043.txt', './license_plate_detection_data/annotations/wts-lg-000046.txt', './license_plate_detection_data/annotations/wts-lg-000017.txt', './license_plate_detection_data/annotations/wts-lg-000126.txt', './license_plate_detection_data/annotations/wts-lg-000174.txt', './license_plate_detection_data/annotations/wts-lg-000156.txt', './license_plate_detection_data/annotations/wts-lg-000102.txt', './license_plate_detection_data/annotations/wts-lg-000026.txt', './license_plate_detection_data/annotations/car3.txt', './license_plate_detection_data/annotations/wts-lg-000183.txt', './license_plate_detection_data/annotations/wts-lg-000106.txt', './license_plate_detection_data/annotations/4be2025c-09f7-4bb0-b1bd-8e8633e6dec1.txt']\n"
          ]
        }
      ]
    },
    {
      "cell_type": "code",
      "source": [
        "# train and validation data split\n",
        "train, test = sklearn.model_selection.train_test_split(\n",
        "  gt_list, train_size=0.8, random_state=42\n",
        ")"
      ],
      "metadata": {
        "id": "cZepdV3Q0-tm"
      },
      "execution_count": 33,
      "outputs": []
    },
    {
      "cell_type": "code",
      "source": [
        "!mkdir train_data"
      ],
      "metadata": {
        "id": "kF-g_x7P0-rA"
      },
      "execution_count": 34,
      "outputs": []
    },
    {
      "cell_type": "code",
      "source": [
        "!mkdir test_data"
      ],
      "metadata": {
        "id": "1QjCAxv40-oi"
      },
      "execution_count": 35,
      "outputs": []
    },
    {
      "cell_type": "code",
      "source": [
        "'''\n",
        "training 데이터 폴더 생성\n",
        "'''"
      ],
      "metadata": {
        "id": "x3qJqlvk0-kO"
      },
      "execution_count": null,
      "outputs": []
    },
    {
      "cell_type": "code",
      "source": [
        "train_dir = './train_data'\n",
        "\n",
        "# train txt file copy\n",
        "for fname in train:\n",
        "  src = fname\n",
        "  dst = os.path.join(train_dir, src.split('/')[-1])\n",
        "  shutil.copyfile(src, dst)\n",
        "\n",
        "# train image file copy\n",
        "image_dir = './license_plate_detection_data/images'\n",
        "for fname in train:\n",
        "  jpg_file_name = fname.split('/')[-1].split('.')[0]+'.jpg'\n",
        "  src = os.path.join(image_dir, jpg_file_name)\n",
        "  dst = os.path.join(train_dir, jpg_file_name)\n",
        "  shutil.copyfile(src, dst)"
      ],
      "metadata": {
        "id": "NhHXSUq00-iK"
      },
      "execution_count": 36,
      "outputs": []
    },
    {
      "cell_type": "code",
      "source": [
        "'''\n",
        "test 데이터 폴더 생성\n",
        "'''"
      ],
      "metadata": {
        "id": "WglclGoD0-ae"
      },
      "execution_count": null,
      "outputs": []
    },
    {
      "cell_type": "code",
      "source": [
        "test_dir = './test_data'\n",
        "\n",
        "# test txt file copy\n",
        "for fname in test:\n",
        "  src = fname\n",
        "  dst = os.path.join(test_dir, src.split('/')[-1])\n",
        "  shutil.copyfile(src, dst)\n",
        "\n",
        "# test image file copy\n",
        "image_dir = './license_plate_detection_data/images'\n",
        "for fname in test:\n",
        "  jpg_file_name = fname.split('/')[-1].split('.')[0]+'.jpg'\n",
        "  src = os.path.join(image_dir, jpg_file_name)\n",
        "  dst = os.path.join(test_dir, jpg_file_name)\n",
        "  shutil.copyfile(src, dst)"
      ],
      "metadata": {
        "id": "GyaP3x2t0-Wb"
      },
      "execution_count": 37,
      "outputs": []
    }
  ]
}